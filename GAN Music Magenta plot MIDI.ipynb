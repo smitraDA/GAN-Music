{
 "cells": [
  {
   "cell_type": "markdown",
   "metadata": {},
   "source": [
    "## Importing tensorflow & magenta"
   ]
  },
  {
   "cell_type": "code",
   "execution_count": 3,
   "metadata": {},
   "outputs": [
    {
     "name": "stdout",
     "output_type": "stream",
     "text": [
      "Requirement already satisfied: magenta in c:\\users\\swarn\\anaconda3\\lib\\site-packages (1.1.7)\n",
      "Requirement already satisfied: matplotlib>=1.5.3 in c:\\users\\swarn\\anaconda3\\lib\\site-packages (from magenta) (3.1.3)\n",
      "Requirement already satisfied: mido==1.2.6 in c:\\users\\swarn\\anaconda3\\lib\\site-packages (from magenta) (1.2.6)\n",
      "Requirement already satisfied: gast==0.2.2 in c:\\users\\swarn\\anaconda3\\lib\\site-packages (from magenta) (0.2.2)\n",
      "Requirement already satisfied: python-rtmidi<1.2,>=1.1 in c:\\users\\swarn\\anaconda3\\lib\\site-packages (from magenta) (1.1.2)\n",
      "Requirement already satisfied: mir-eval>=0.4 in c:\\users\\swarn\\anaconda3\\lib\\site-packages (from magenta) (0.6)\n",
      "Requirement already satisfied: tensor2tensor>=1.13.4 in c:\\users\\swarn\\anaconda3\\lib\\site-packages (from magenta) (1.15.5)\n",
      "Requirement already satisfied: IPython in c:\\users\\swarn\\anaconda3\\lib\\site-packages (from magenta) (7.12.0)\n",
      "Requirement already satisfied: tensorflow-datasets>=1.0.2 in c:\\users\\swarn\\anaconda3\\lib\\site-packages (from magenta) (3.0.0)\n",
      "Requirement already satisfied: numpy>=1.14.6 in c:\\users\\swarn\\anaconda3\\lib\\site-packages (from magenta) (1.18.1)\n",
      "Requirement already satisfied: backports.tempfile in c:\\users\\swarn\\anaconda3\\lib\\site-packages (from magenta) (1.0)\n",
      "Requirement already satisfied: intervaltree>=2.1.0 in c:\\users\\swarn\\anaconda3\\lib\\site-packages (from magenta) (3.0.2)\n",
      "Requirement already satisfied: sox>=1.3.7 in c:\\users\\swarn\\anaconda3\\lib\\site-packages (from magenta) (1.3.7)\n",
      "Requirement already satisfied: tensorflow<2.0.0,>=1.14.0 in c:\\users\\swarn\\anaconda3\\lib\\site-packages (from magenta) (1.15.2)\n",
      "Requirement already satisfied: sonnet in c:\\users\\swarn\\anaconda3\\lib\\site-packages (from magenta) (0.1.6)\n",
      "Requirement already satisfied: sk-video in c:\\users\\swarn\\anaconda3\\lib\\site-packages (from magenta) (1.1.10)\n",
      "Requirement already satisfied: protobuf>=3.6.1 in c:\\users\\swarn\\anaconda3\\lib\\site-packages (from magenta) (3.11.3)\n",
      "Requirement already satisfied: pandas>=0.18.1 in c:\\users\\swarn\\anaconda3\\lib\\site-packages (from magenta) (1.0.1)\n",
      "Requirement already satisfied: bokeh>=0.12.0 in c:\\users\\swarn\\anaconda3\\lib\\site-packages (from magenta) (1.4.0)\n",
      "Requirement already satisfied: six>=1.12.0 in c:\\users\\swarn\\anaconda3\\lib\\site-packages (from magenta) (1.14.0)\n",
      "Requirement already satisfied: wheel in c:\\users\\swarn\\anaconda3\\lib\\site-packages (from magenta) (0.34.2)\n",
      "Requirement already satisfied: absl-py in c:\\users\\swarn\\anaconda3\\lib\\site-packages (from magenta) (0.9.0)\n",
      "Requirement already satisfied: librosa>=0.6.2 in c:\\users\\swarn\\anaconda3\\lib\\site-packages (from magenta) (0.7.2)\n",
      "Requirement already satisfied: joblib>=0.12 in c:\\users\\swarn\\anaconda3\\lib\\site-packages (from magenta) (0.14.1)\n",
      "Requirement already satisfied: pretty-midi>=0.2.6 in c:\\users\\swarn\\anaconda3\\lib\\site-packages (from magenta) (0.2.9)\n",
      "Requirement already satisfied: pygtrie>=2.3 in c:\\users\\swarn\\anaconda3\\lib\\site-packages (from magenta) (2.3.3)\n",
      "Requirement already satisfied: scipy>=0.18.1 in c:\\users\\swarn\\anaconda3\\lib\\site-packages (from magenta) (1.4.1)\n",
      "Requirement already satisfied: tensorflow-probability==0.7.0rc0 in c:\\users\\swarn\\anaconda3\\lib\\site-packages (from magenta) (0.7.0rc0)\n",
      "Requirement already satisfied: Pillow>=3.4.2 in c:\\users\\swarn\\anaconda3\\lib\\site-packages (from magenta) (7.0.0)\n",
      "Requirement already satisfied: pyparsing!=2.0.4,!=2.1.2,!=2.1.6,>=2.0.1 in c:\\users\\swarn\\anaconda3\\lib\\site-packages (from matplotlib>=1.5.3->magenta) (2.4.6)\n",
      "Requirement already satisfied: kiwisolver>=1.0.1 in c:\\users\\swarn\\anaconda3\\lib\\site-packages (from matplotlib>=1.5.3->magenta) (1.1.0)\n",
      "Requirement already satisfied: cycler>=0.10 in c:\\users\\swarn\\anaconda3\\lib\\site-packages (from matplotlib>=1.5.3->magenta) (0.10.0)\n",
      "Requirement already satisfied: python-dateutil>=2.1 in c:\\users\\swarn\\anaconda3\\lib\\site-packages (from matplotlib>=1.5.3->magenta) (2.8.1)\n",
      "Requirement already satisfied: future in c:\\users\\swarn\\anaconda3\\lib\\site-packages (from mir-eval>=0.4->magenta) (0.18.2)\n",
      "Requirement already satisfied: gevent in c:\\users\\swarn\\anaconda3\\lib\\site-packages (from tensor2tensor>=1.13.4->magenta) (1.4.0)\n",
      "Requirement already satisfied: gym==0.14.0 in c:\\users\\swarn\\anaconda3\\lib\\site-packages (from tensor2tensor>=1.13.4->magenta) (0.14.0)\n",
      "Requirement already satisfied: dopamine-rl in c:\\users\\swarn\\anaconda3\\lib\\site-packages (from tensor2tensor>=1.13.4->magenta) (3.0.1)\n",
      "Requirement already satisfied: mesh-tensorflow in c:\\users\\swarn\\anaconda3\\lib\\site-packages (from tensor2tensor>=1.13.4->magenta) (0.1.13)\n",
      "Requirement already satisfied: sympy in c:\\users\\swarn\\anaconda3\\lib\\site-packages (from tensor2tensor>=1.13.4->magenta) (1.5.1)\n",
      "Requirement already satisfied: gin-config in c:\\users\\swarn\\anaconda3\\lib\\site-packages (from tensor2tensor>=1.13.4->magenta) (0.3.0)\n",
      "Requirement already satisfied: tensorflow-gan in c:\\users\\swarn\\anaconda3\\lib\\site-packages (from tensor2tensor>=1.13.4->magenta) (2.0.0)\n",
      "Requirement already satisfied: kfac in c:\\users\\swarn\\anaconda3\\lib\\site-packages (from tensor2tensor>=1.13.4->magenta) (0.2.0)\n",
      "Requirement already satisfied: h5py in c:\\users\\swarn\\anaconda3\\lib\\site-packages (from tensor2tensor>=1.13.4->magenta) (2.10.0)\n",
      "Requirement already satisfied: pypng in c:\\users\\swarn\\anaconda3\\lib\\site-packages (from tensor2tensor>=1.13.4->magenta) (0.0.20)\n",
      "Requirement already satisfied: flask in c:\\users\\swarn\\anaconda3\\lib\\site-packages (from tensor2tensor>=1.13.4->magenta) (1.1.1)\n",
      "Requirement already satisfied: google-api-python-client in c:\\users\\swarn\\anaconda3\\lib\\site-packages (from tensor2tensor>=1.13.4->magenta) (1.8.1)\n",
      "Requirement already satisfied: tqdm in c:\\users\\swarn\\anaconda3\\lib\\site-packages (from tensor2tensor>=1.13.4->magenta) (4.42.1)\n",
      "Requirement already satisfied: opencv-python in c:\\users\\swarn\\anaconda3\\lib\\site-packages (from tensor2tensor>=1.13.4->magenta) (4.2.0.34)\n",
      "Requirement already satisfied: oauth2client in c:\\users\\swarn\\anaconda3\\lib\\site-packages (from tensor2tensor>=1.13.4->magenta) (3.0.0)\n",
      "Requirement already satisfied: requests in c:\\users\\swarn\\anaconda3\\lib\\site-packages (from tensor2tensor>=1.13.4->magenta) (2.22.0)\n",
      "Requirement already satisfied: gunicorn in c:\\users\\swarn\\anaconda3\\lib\\site-packages (from tensor2tensor>=1.13.4->magenta) (20.0.4)\n",
      "Requirement already satisfied: bz2file in c:\\users\\swarn\\anaconda3\\lib\\site-packages (from tensor2tensor>=1.13.4->magenta) (0.98)\n",
      "Requirement already satisfied: setuptools>=18.5 in c:\\users\\swarn\\anaconda3\\lib\\site-packages (from IPython->magenta) (45.2.0.post20200210)\n",
      "Requirement already satisfied: pickleshare in c:\\users\\swarn\\anaconda3\\lib\\site-packages (from IPython->magenta) (0.7.5)\n",
      "Requirement already satisfied: traitlets>=4.2 in c:\\users\\swarn\\anaconda3\\lib\\site-packages (from IPython->magenta) (4.3.3)\n",
      "Requirement already satisfied: pygments in c:\\users\\swarn\\anaconda3\\lib\\site-packages (from IPython->magenta) (2.5.2)\n",
      "Requirement already satisfied: colorama; sys_platform == \"win32\" in c:\\users\\swarn\\anaconda3\\lib\\site-packages (from IPython->magenta) (0.4.3)\n",
      "Requirement already satisfied: backcall in c:\\users\\swarn\\anaconda3\\lib\\site-packages (from IPython->magenta) (0.1.0)\n",
      "Requirement already satisfied: prompt-toolkit!=3.0.0,!=3.0.1,<3.1.0,>=2.0.0 in c:\\users\\swarn\\anaconda3\\lib\\site-packages (from IPython->magenta) (3.0.3)\n",
      "Requirement already satisfied: jedi>=0.10 in c:\\users\\swarn\\anaconda3\\lib\\site-packages (from IPython->magenta) (0.14.1)\n",
      "Requirement already satisfied: decorator in c:\\users\\swarn\\anaconda3\\lib\\site-packages (from IPython->magenta) (4.4.1)\n",
      "Requirement already satisfied: promise in c:\\users\\swarn\\anaconda3\\lib\\site-packages (from tensorflow-datasets>=1.0.2->magenta) (2.3)\n",
      "Requirement already satisfied: tensorflow-metadata in c:\\users\\swarn\\anaconda3\\lib\\site-packages (from tensorflow-datasets>=1.0.2->magenta) (0.21.2)\n",
      "Requirement already satisfied: dill in c:\\users\\swarn\\anaconda3\\lib\\site-packages (from tensorflow-datasets>=1.0.2->magenta) (0.3.1.1)\n",
      "Requirement already satisfied: attrs>=18.1.0 in c:\\users\\swarn\\anaconda3\\lib\\site-packages (from tensorflow-datasets>=1.0.2->magenta) (19.3.0)\n",
      "Requirement already satisfied: termcolor in c:\\users\\swarn\\anaconda3\\lib\\site-packages (from tensorflow-datasets>=1.0.2->magenta) (1.1.0)\n",
      "Requirement already satisfied: wrapt in c:\\users\\swarn\\anaconda3\\lib\\site-packages (from tensorflow-datasets>=1.0.2->magenta) (1.11.2)\n",
      "Requirement already satisfied: backports.weakref in c:\\users\\swarn\\anaconda3\\lib\\site-packages (from backports.tempfile->magenta) (1.0.post1)\n",
      "Requirement already satisfied: sortedcontainers<3.0,>=2.0 in c:\\users\\swarn\\anaconda3\\lib\\site-packages (from intervaltree>=2.1.0->magenta) (2.1.0)\n",
      "Requirement already satisfied: astor>=0.6.0 in c:\\users\\swarn\\anaconda3\\lib\\site-packages (from tensorflow<2.0.0,>=1.14.0->magenta) (0.8.1)\n",
      "Requirement already satisfied: keras-preprocessing>=1.0.5 in c:\\users\\swarn\\anaconda3\\lib\\site-packages (from tensorflow<2.0.0,>=1.14.0->magenta) (1.1.0)\n",
      "Requirement already satisfied: grpcio>=1.8.6 in c:\\users\\swarn\\anaconda3\\lib\\site-packages (from tensorflow<2.0.0,>=1.14.0->magenta) (1.28.1)\n",
      "Requirement already satisfied: opt-einsum>=2.3.2 in c:\\users\\swarn\\anaconda3\\lib\\site-packages (from tensorflow<2.0.0,>=1.14.0->magenta) (3.2.1)\n",
      "Requirement already satisfied: tensorboard<1.16.0,>=1.15.0 in c:\\users\\swarn\\anaconda3\\lib\\site-packages (from tensorflow<2.0.0,>=1.14.0->magenta) (1.15.0)\n",
      "Requirement already satisfied: keras-applications>=1.0.8 in c:\\users\\swarn\\anaconda3\\lib\\site-packages (from tensorflow<2.0.0,>=1.14.0->magenta) (1.0.8)\n",
      "Requirement already satisfied: google-pasta>=0.1.6 in c:\\users\\swarn\\anaconda3\\lib\\site-packages (from tensorflow<2.0.0,>=1.14.0->magenta) (0.2.0)\n",
      "Requirement already satisfied: tensorflow-estimator==1.15.1 in c:\\users\\swarn\\anaconda3\\lib\\site-packages (from tensorflow<2.0.0,>=1.14.0->magenta) (1.15.1)\n",
      "Requirement already satisfied: networkx==1.8.1 in c:\\users\\swarn\\anaconda3\\lib\\site-packages (from sonnet->magenta) (1.8.1)\n",
      "Requirement already satisfied: pytz>=2017.2 in c:\\users\\swarn\\anaconda3\\lib\\site-packages (from pandas>=0.18.1->magenta) (2019.3)\n",
      "Requirement already satisfied: tornado>=4.3 in c:\\users\\swarn\\anaconda3\\lib\\site-packages (from bokeh>=0.12.0->magenta) (6.0.3)\n",
      "Requirement already satisfied: Jinja2>=2.7 in c:\\users\\swarn\\anaconda3\\lib\\site-packages (from bokeh>=0.12.0->magenta) (2.11.1)\n",
      "Requirement already satisfied: PyYAML>=3.10 in c:\\users\\swarn\\anaconda3\\lib\\site-packages (from bokeh>=0.12.0->magenta) (5.3)\n",
      "Requirement already satisfied: packaging>=16.8 in c:\\users\\swarn\\anaconda3\\lib\\site-packages (from bokeh>=0.12.0->magenta) (20.1)\n",
      "Requirement already satisfied: soundfile>=0.9.0 in c:\\users\\swarn\\anaconda3\\lib\\site-packages (from librosa>=0.6.2->magenta) (0.10.3.post1)\n",
      "Requirement already satisfied: scikit-learn!=0.19.0,>=0.14.0 in c:\\users\\swarn\\anaconda3\\lib\\site-packages (from librosa>=0.6.2->magenta) (0.22.1)\n",
      "Requirement already satisfied: audioread>=2.0.0 in c:\\users\\swarn\\anaconda3\\lib\\site-packages (from librosa>=0.6.2->magenta) (2.1.8)\n",
      "Requirement already satisfied: numba>=0.43.0 in c:\\users\\swarn\\anaconda3\\lib\\site-packages (from librosa>=0.6.2->magenta) (0.48.0)\n",
      "Requirement already satisfied: resampy>=0.2.2 in c:\\users\\swarn\\anaconda3\\lib\\site-packages (from librosa>=0.6.2->magenta) (0.2.2)\n",
      "Requirement already satisfied: cloudpickle>=0.6.1 in c:\\users\\swarn\\anaconda3\\lib\\site-packages (from tensorflow-probability==0.7.0rc0->magenta) (1.3.0)\n",
      "Requirement already satisfied: greenlet>=0.4.14 in c:\\users\\swarn\\anaconda3\\lib\\site-packages (from gevent->tensor2tensor>=1.13.4->magenta) (0.4.15)\n",
      "Requirement already satisfied: cffi>=1.11.5 in c:\\users\\swarn\\anaconda3\\lib\\site-packages (from gevent->tensor2tensor>=1.13.4->magenta) (1.14.0)\n",
      "Requirement already satisfied: pyglet<=1.3.2,>=1.2.0 in c:\\users\\swarn\\anaconda3\\lib\\site-packages (from gym==0.14.0->tensor2tensor>=1.13.4->magenta) (1.3.2)\n",
      "Requirement already satisfied: mpmath>=0.19 in c:\\users\\swarn\\anaconda3\\lib\\site-packages (from sympy->tensor2tensor>=1.13.4->magenta) (1.1.0)\n",
      "Requirement already satisfied: tensorflow-hub>=0.2 in c:\\users\\swarn\\anaconda3\\lib\\site-packages (from tensorflow-gan->tensor2tensor>=1.13.4->magenta) (0.8.0)\n",
      "Requirement already satisfied: Werkzeug>=0.15 in c:\\users\\swarn\\anaconda3\\lib\\site-packages (from flask->tensor2tensor>=1.13.4->magenta) (1.0.0)\n",
      "Requirement already satisfied: click>=5.1 in c:\\users\\swarn\\anaconda3\\lib\\site-packages (from flask->tensor2tensor>=1.13.4->magenta) (7.0)\n",
      "Requirement already satisfied: itsdangerous>=0.24 in c:\\users\\swarn\\anaconda3\\lib\\site-packages (from flask->tensor2tensor>=1.13.4->magenta) (1.1.0)\n",
      "Requirement already satisfied: httplib2<1dev,>=0.9.2 in c:\\users\\swarn\\anaconda3\\lib\\site-packages (from google-api-python-client->tensor2tensor>=1.13.4->magenta) (0.12.0)\n",
      "Requirement already satisfied: google-api-core<2dev,>=1.13.0 in c:\\users\\swarn\\anaconda3\\lib\\site-packages (from google-api-python-client->tensor2tensor>=1.13.4->magenta) (1.17.0)\n",
      "Requirement already satisfied: google-auth>=1.4.1 in c:\\users\\swarn\\anaconda3\\lib\\site-packages (from google-api-python-client->tensor2tensor>=1.13.4->magenta) (1.14.0)\n",
      "Requirement already satisfied: google-auth-httplib2>=0.0.3 in c:\\users\\swarn\\anaconda3\\lib\\site-packages (from google-api-python-client->tensor2tensor>=1.13.4->magenta) (0.0.3)\n",
      "Requirement already satisfied: uritemplate<4dev,>=3.0.0 in c:\\users\\swarn\\anaconda3\\lib\\site-packages (from google-api-python-client->tensor2tensor>=1.13.4->magenta) (3.0.1)\n",
      "Requirement already satisfied: pyasn1-modules>=0.0.5 in c:\\users\\swarn\\anaconda3\\lib\\site-packages (from oauth2client->tensor2tensor>=1.13.4->magenta) (0.2.8)\n",
      "Requirement already satisfied: pyasn1>=0.1.7 in c:\\users\\swarn\\anaconda3\\lib\\site-packages (from oauth2client->tensor2tensor>=1.13.4->magenta) (0.4.8)\n",
      "Requirement already satisfied: rsa>=3.1.4 in c:\\users\\swarn\\anaconda3\\lib\\site-packages (from oauth2client->tensor2tensor>=1.13.4->magenta) (4.0)\n",
      "Requirement already satisfied: certifi>=2017.4.17 in c:\\users\\swarn\\anaconda3\\lib\\site-packages (from requests->tensor2tensor>=1.13.4->magenta) (2019.11.28)\n",
      "Requirement already satisfied: chardet<3.1.0,>=3.0.2 in c:\\users\\swarn\\anaconda3\\lib\\site-packages (from requests->tensor2tensor>=1.13.4->magenta) (3.0.4)\n",
      "Requirement already satisfied: idna<2.9,>=2.5 in c:\\users\\swarn\\anaconda3\\lib\\site-packages (from requests->tensor2tensor>=1.13.4->magenta) (2.8)\n",
      "Requirement already satisfied: urllib3!=1.25.0,!=1.25.1,<1.26,>=1.21.1 in c:\\users\\swarn\\anaconda3\\lib\\site-packages (from requests->tensor2tensor>=1.13.4->magenta) (1.25.8)\n",
      "Requirement already satisfied: ipython-genutils in c:\\users\\swarn\\anaconda3\\lib\\site-packages (from traitlets>=4.2->IPython->magenta) (0.2.0)\n",
      "Requirement already satisfied: wcwidth in c:\\users\\swarn\\anaconda3\\lib\\site-packages (from prompt-toolkit!=3.0.0,!=3.0.1,<3.1.0,>=2.0.0->IPython->magenta) (0.1.8)\n",
      "Requirement already satisfied: parso>=0.5.0 in c:\\users\\swarn\\anaconda3\\lib\\site-packages (from jedi>=0.10->IPython->magenta) (0.5.2)\n",
      "Requirement already satisfied: googleapis-common-protos in c:\\users\\swarn\\anaconda3\\lib\\site-packages (from tensorflow-metadata->tensorflow-datasets>=1.0.2->magenta) (1.51.0)\n",
      "Requirement already satisfied: markdown>=2.6.8 in c:\\users\\swarn\\anaconda3\\lib\\site-packages (from tensorboard<1.16.0,>=1.15.0->tensorflow<2.0.0,>=1.14.0->magenta) (3.2.1)\n",
      "Requirement already satisfied: MarkupSafe>=0.23 in c:\\users\\swarn\\anaconda3\\lib\\site-packages (from Jinja2>=2.7->bokeh>=0.12.0->magenta) (1.1.1)\n",
      "Requirement already satisfied: llvmlite<0.32.0,>=0.31.0dev0 in c:\\users\\swarn\\anaconda3\\lib\\site-packages (from numba>=0.43.0->librosa>=0.6.2->magenta) (0.31.0)\n",
      "Requirement already satisfied: pycparser in c:\\users\\swarn\\anaconda3\\lib\\site-packages (from cffi>=1.11.5->gevent->tensor2tensor>=1.13.4->magenta) (2.19)\n",
      "Requirement already satisfied: cachetools<5.0,>=2.0.0 in c:\\users\\swarn\\anaconda3\\lib\\site-packages (from google-auth>=1.4.1->google-api-python-client->tensor2tensor>=1.13.4->magenta) (3.1.1)\n",
      "Note: you may need to restart the kernel to use updated packages.\n"
     ]
    }
   ],
   "source": [
    "pip install magenta"
   ]
  },
  {
   "cell_type": "code",
   "execution_count": 4,
   "metadata": {
    "scrolled": true
   },
   "outputs": [
    {
     "name": "stdout",
     "output_type": "stream",
     "text": [
      "WARNING:tensorflow:From C:\\Users\\swarn\\anaconda3\\lib\\site-packages\\magenta\\music\\note_sequence_io.py:60: The name tf.python_io.TFRecordWriter is deprecated. Please use tf.io.TFRecordWriter instead.\n",
      "\n",
      "WARNING:tensorflow:From C:\\Users\\swarn\\anaconda3\\lib\\site-packages\\magenta\\pipelines\\statistics.py:132: The name tf.logging.info is deprecated. Please use tf.compat.v1.logging.info instead.\n",
      "\n",
      "Installed tensorflow version 1.15.2\n",
      "Installed magenta version 1.1.7\n"
     ]
    }
   ],
   "source": [
    "import tensorflow\n",
    "import magenta\n",
    "\n",
    "print(\"Installed tensorflow version \" + tensorflow.__version__)\n",
    "print(\"Installed magenta version \" + magenta.__version__)"
   ]
  },
  {
   "cell_type": "markdown",
   "metadata": {},
   "source": [
    "## Representing Music as MIDI;Converts a pretty midi sequence to a bokeh plot."
   ]
  },
  {
   "cell_type": "code",
   "execution_count": 5,
   "metadata": {
    "scrolled": true
   },
   "outputs": [
    {
     "name": "stdout",
     "output_type": "stream",
     "text": [
      "Requirement already satisfied: visual_midi in c:\\users\\swarn\\anaconda3\\lib\\site-packages (1.0.0)\n",
      "Requirement already satisfied: pretty-midi>=0.2.8 in c:\\users\\swarn\\anaconda3\\lib\\site-packages (from visual_midi) (0.2.9)\n",
      "Requirement already satisfied: bokeh>=1.3.0 in c:\\users\\swarn\\anaconda3\\lib\\site-packages (from visual_midi) (1.4.0)\n",
      "Requirement already satisfied: six in c:\\users\\swarn\\anaconda3\\lib\\site-packages (from pretty-midi>=0.2.8->visual_midi) (1.14.0)\n",
      "Requirement already satisfied: numpy>=1.7.0 in c:\\users\\swarn\\anaconda3\\lib\\site-packages (from pretty-midi>=0.2.8->visual_midi) (1.18.1)\n",
      "Requirement already satisfied: mido>=1.1.16 in c:\\users\\swarn\\anaconda3\\lib\\site-packages (from pretty-midi>=0.2.8->visual_midi) (1.2.6)\n",
      "Requirement already satisfied: tornado>=4.3 in c:\\users\\swarn\\anaconda3\\lib\\site-packages (from bokeh>=1.3.0->visual_midi) (6.0.3)\n",
      "Requirement already satisfied: PyYAML>=3.10 in c:\\users\\swarn\\anaconda3\\lib\\site-packages (from bokeh>=1.3.0->visual_midi) (5.3)\n",
      "Requirement already satisfied: Jinja2>=2.7 in c:\\users\\swarn\\anaconda3\\lib\\site-packages (from bokeh>=1.3.0->visual_midi) (2.11.1)\n",
      "Requirement already satisfied: pillow>=4.0 in c:\\users\\swarn\\anaconda3\\lib\\site-packages (from bokeh>=1.3.0->visual_midi) (7.0.0)\n",
      "Requirement already satisfied: packaging>=16.8 in c:\\users\\swarn\\anaconda3\\lib\\site-packages (from bokeh>=1.3.0->visual_midi) (20.1)\n",
      "Requirement already satisfied: python-dateutil>=2.1 in c:\\users\\swarn\\anaconda3\\lib\\site-packages (from bokeh>=1.3.0->visual_midi) (2.8.1)\n",
      "Requirement already satisfied: MarkupSafe>=0.23 in c:\\users\\swarn\\anaconda3\\lib\\site-packages (from Jinja2>=2.7->bokeh>=1.3.0->visual_midi) (1.1.1)\n",
      "Requirement already satisfied: pyparsing>=2.0.2 in c:\\users\\swarn\\anaconda3\\lib\\site-packages (from packaging>=16.8->bokeh>=1.3.0->visual_midi) (2.4.6)\n",
      "Note: you may need to restart the kernel to use updated packages.\n"
     ]
    }
   ],
   "source": [
    "pip install visual_midi"
   ]
  },
  {
   "cell_type": "code",
   "execution_count": 6,
   "metadata": {
    "scrolled": true
   },
   "outputs": [
    {
     "ename": "OSError",
     "evalue": "MThd not found. Probably not a MIDI file",
     "output_type": "error",
     "traceback": [
      "\u001b[1;31m---------------------------------------------------------------------------\u001b[0m",
      "\u001b[1;31mOSError\u001b[0m                                   Traceback (most recent call last)",
      "\u001b[1;32m<ipython-input-6-b8dd8d277296>\u001b[0m in \u001b[0;36m<module>\u001b[1;34m\u001b[0m\n\u001b[0;32m      2\u001b[0m \u001b[1;32mfrom\u001b[0m \u001b[0mpretty_midi\u001b[0m \u001b[1;32mimport\u001b[0m \u001b[0mPrettyMIDI\u001b[0m\u001b[1;33m\u001b[0m\u001b[1;33m\u001b[0m\u001b[0m\n\u001b[0;32m      3\u001b[0m \u001b[1;33m\u001b[0m\u001b[0m\n\u001b[1;32m----> 4\u001b[1;33m \u001b[0mpm\u001b[0m \u001b[1;33m=\u001b[0m \u001b[0mPrettyMIDI\u001b[0m\u001b[1;33m(\u001b[0m\u001b[1;34m\"cs1-1pre-short.mid\"\u001b[0m\u001b[1;33m)\u001b[0m\u001b[1;33m\u001b[0m\u001b[1;33m\u001b[0m\u001b[0m\n\u001b[0m\u001b[0;32m      5\u001b[0m \u001b[0mplotter\u001b[0m \u001b[1;33m=\u001b[0m \u001b[0mPlotter\u001b[0m\u001b[1;33m(\u001b[0m\u001b[1;33m)\u001b[0m\u001b[1;33m\u001b[0m\u001b[1;33m\u001b[0m\u001b[0m\n\u001b[0;32m      6\u001b[0m \u001b[0mplotter\u001b[0m\u001b[1;33m.\u001b[0m\u001b[0mshow\u001b[0m\u001b[1;33m(\u001b[0m\u001b[0mpm\u001b[0m\u001b[1;33m,\u001b[0m \u001b[1;34m\"cs1-1pre-short.mid\"\u001b[0m\u001b[1;33m)\u001b[0m\u001b[1;33m\u001b[0m\u001b[1;33m\u001b[0m\u001b[0m\n",
      "\u001b[1;32m~\\anaconda3\\lib\\site-packages\\pretty_midi\\pretty_midi.py\u001b[0m in \u001b[0;36m__init__\u001b[1;34m(self, midi_file, resolution, initial_tempo)\u001b[0m\n\u001b[0;32m     58\u001b[0m             \u001b[1;32mif\u001b[0m \u001b[0misinstance\u001b[0m\u001b[1;33m(\u001b[0m\u001b[0mmidi_file\u001b[0m\u001b[1;33m,\u001b[0m \u001b[0msix\u001b[0m\u001b[1;33m.\u001b[0m\u001b[0mstring_types\u001b[0m\u001b[1;33m)\u001b[0m\u001b[1;33m:\u001b[0m\u001b[1;33m\u001b[0m\u001b[1;33m\u001b[0m\u001b[0m\n\u001b[0;32m     59\u001b[0m                 \u001b[1;31m# If a string was given, pass it as the string filename\u001b[0m\u001b[1;33m\u001b[0m\u001b[1;33m\u001b[0m\u001b[1;33m\u001b[0m\u001b[0m\n\u001b[1;32m---> 60\u001b[1;33m                 \u001b[0mmidi_data\u001b[0m \u001b[1;33m=\u001b[0m \u001b[0mmido\u001b[0m\u001b[1;33m.\u001b[0m\u001b[0mMidiFile\u001b[0m\u001b[1;33m(\u001b[0m\u001b[0mfilename\u001b[0m\u001b[1;33m=\u001b[0m\u001b[0mmidi_file\u001b[0m\u001b[1;33m)\u001b[0m\u001b[1;33m\u001b[0m\u001b[1;33m\u001b[0m\u001b[0m\n\u001b[0m\u001b[0;32m     61\u001b[0m             \u001b[1;32melse\u001b[0m\u001b[1;33m:\u001b[0m\u001b[1;33m\u001b[0m\u001b[1;33m\u001b[0m\u001b[0m\n\u001b[0;32m     62\u001b[0m                 \u001b[1;31m# Otherwise, try passing it in as a file pointer\u001b[0m\u001b[1;33m\u001b[0m\u001b[1;33m\u001b[0m\u001b[1;33m\u001b[0m\u001b[0m\n",
      "\u001b[1;32m~\\anaconda3\\lib\\site-packages\\mido\\midifiles\\midifiles.py\u001b[0m in \u001b[0;36m__init__\u001b[1;34m(self, filename, file, type, ticks_per_beat, charset, debug)\u001b[0m\n\u001b[0;32m    294\u001b[0m         \u001b[1;32melif\u001b[0m \u001b[0mself\u001b[0m\u001b[1;33m.\u001b[0m\u001b[0mfilename\u001b[0m \u001b[1;32mis\u001b[0m \u001b[1;32mnot\u001b[0m \u001b[1;32mNone\u001b[0m\u001b[1;33m:\u001b[0m\u001b[1;33m\u001b[0m\u001b[1;33m\u001b[0m\u001b[0m\n\u001b[0;32m    295\u001b[0m             \u001b[1;32mwith\u001b[0m \u001b[0mio\u001b[0m\u001b[1;33m.\u001b[0m\u001b[0mopen\u001b[0m\u001b[1;33m(\u001b[0m\u001b[0mfilename\u001b[0m\u001b[1;33m,\u001b[0m \u001b[1;34m'rb'\u001b[0m\u001b[1;33m)\u001b[0m \u001b[1;32mas\u001b[0m \u001b[0mfile\u001b[0m\u001b[1;33m:\u001b[0m\u001b[1;33m\u001b[0m\u001b[1;33m\u001b[0m\u001b[0m\n\u001b[1;32m--> 296\u001b[1;33m                 \u001b[0mself\u001b[0m\u001b[1;33m.\u001b[0m\u001b[0m_load\u001b[0m\u001b[1;33m(\u001b[0m\u001b[0mfile\u001b[0m\u001b[1;33m)\u001b[0m\u001b[1;33m\u001b[0m\u001b[1;33m\u001b[0m\u001b[0m\n\u001b[0m\u001b[0;32m    297\u001b[0m \u001b[1;33m\u001b[0m\u001b[0m\n\u001b[0;32m    298\u001b[0m     \u001b[1;32mdef\u001b[0m \u001b[0madd_track\u001b[0m\u001b[1;33m(\u001b[0m\u001b[0mself\u001b[0m\u001b[1;33m,\u001b[0m \u001b[0mname\u001b[0m\u001b[1;33m=\u001b[0m\u001b[1;32mNone\u001b[0m\u001b[1;33m)\u001b[0m\u001b[1;33m:\u001b[0m\u001b[1;33m\u001b[0m\u001b[1;33m\u001b[0m\u001b[0m\n",
      "\u001b[1;32m~\\anaconda3\\lib\\site-packages\\mido\\midifiles\\midifiles.py\u001b[0m in \u001b[0;36m_load\u001b[1;34m(self, infile)\u001b[0m\n\u001b[0;32m    318\u001b[0m             (self.type,\n\u001b[0;32m    319\u001b[0m              \u001b[0mnum_tracks\u001b[0m\u001b[1;33m,\u001b[0m\u001b[1;33m\u001b[0m\u001b[1;33m\u001b[0m\u001b[0m\n\u001b[1;32m--> 320\u001b[1;33m              self.ticks_per_beat) = read_file_header(infile)\n\u001b[0m\u001b[0;32m    321\u001b[0m \u001b[1;33m\u001b[0m\u001b[0m\n\u001b[0;32m    322\u001b[0m             \u001b[1;32mif\u001b[0m \u001b[0mself\u001b[0m\u001b[1;33m.\u001b[0m\u001b[0mdebug\u001b[0m\u001b[1;33m:\u001b[0m\u001b[1;33m\u001b[0m\u001b[1;33m\u001b[0m\u001b[0m\n",
      "\u001b[1;32m~\\anaconda3\\lib\\site-packages\\mido\\midifiles\\midifiles.py\u001b[0m in \u001b[0;36mread_file_header\u001b[1;34m(infile)\u001b[0m\n\u001b[0;32m    102\u001b[0m \u001b[1;33m\u001b[0m\u001b[0m\n\u001b[0;32m    103\u001b[0m     \u001b[1;32mif\u001b[0m \u001b[0mname\u001b[0m \u001b[1;33m!=\u001b[0m \u001b[1;34mb'MThd'\u001b[0m\u001b[1;33m:\u001b[0m\u001b[1;33m\u001b[0m\u001b[1;33m\u001b[0m\u001b[0m\n\u001b[1;32m--> 104\u001b[1;33m         \u001b[1;32mraise\u001b[0m \u001b[0mIOError\u001b[0m\u001b[1;33m(\u001b[0m\u001b[1;34m'MThd not found. Probably not a MIDI file'\u001b[0m\u001b[1;33m)\u001b[0m\u001b[1;33m\u001b[0m\u001b[1;33m\u001b[0m\u001b[0m\n\u001b[0m\u001b[0;32m    105\u001b[0m     \u001b[1;32melse\u001b[0m\u001b[1;33m:\u001b[0m\u001b[1;33m\u001b[0m\u001b[1;33m\u001b[0m\u001b[0m\n\u001b[0;32m    106\u001b[0m         \u001b[0mdata\u001b[0m \u001b[1;33m=\u001b[0m \u001b[0minfile\u001b[0m\u001b[1;33m.\u001b[0m\u001b[0mread\u001b[0m\u001b[1;33m(\u001b[0m\u001b[0msize\u001b[0m\u001b[1;33m)\u001b[0m\u001b[1;33m\u001b[0m\u001b[1;33m\u001b[0m\u001b[0m\n",
      "\u001b[1;31mOSError\u001b[0m: MThd not found. Probably not a MIDI file"
     ]
    }
   ],
   "source": [
    "from visual_midi import Plotter\n",
    "from pretty_midi import PrettyMIDI\n",
    "\n",
    "pm = PrettyMIDI(\"cs1-1pre-short.mid\")\n",
    "plotter = Plotter()\n",
    "plotter.show(pm, \"cs1-1pre-short.mid\")\n"
   ]
  },
  {
   "cell_type": "code",
   "execution_count": null,
   "metadata": {},
   "outputs": [],
   "source": []
  }
 ],
 "metadata": {
  "kernelspec": {
   "display_name": "Python 3",
   "language": "python",
   "name": "python3"
  },
  "language_info": {
   "codemirror_mode": {
    "name": "ipython",
    "version": 3
   },
   "file_extension": ".py",
   "mimetype": "text/x-python",
   "name": "python",
   "nbconvert_exporter": "python",
   "pygments_lexer": "ipython3",
   "version": "3.7.6"
  }
 },
 "nbformat": 4,
 "nbformat_minor": 4
}
